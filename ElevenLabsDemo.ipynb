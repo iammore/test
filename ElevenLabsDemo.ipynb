{
  "nbformat": 4,
  "nbformat_minor": 0,
  "metadata": {
    "colab": {
      "provenance": [],
      "authorship_tag": "ABX9TyNk1sLW5mLA71UpIVBIsRNV",
      "include_colab_link": true
    },
    "kernelspec": {
      "name": "python3",
      "display_name": "Python 3"
    },
    "language_info": {
      "name": "python"
    }
  },
  "cells": [
    {
      "cell_type": "markdown",
      "metadata": {
        "id": "view-in-github",
        "colab_type": "text"
      },
      "source": [
        "<a href=\"https://colab.research.google.com/github/iammore/test/blob/master/ElevenLabsDemo.ipynb\" target=\"_parent\"><img src=\"https://colab.research.google.com/assets/colab-badge.svg\" alt=\"Open In Colab\"/></a>"
      ]
    },
    {
      "cell_type": "code",
      "execution_count": null,
      "metadata": {
        "colab": {
          "base_uri": "https://localhost:8080/"
        },
        "id": "HCt2J-9S8Ll4",
        "outputId": "56a7df03-64f8-4037-bbd4-d5f0275ac82a"
      },
      "outputs": [
        {
          "output_type": "stream",
          "name": "stdout",
          "text": [
            "Requirement already satisfied: elevenlabs in /usr/local/lib/python3.11/dist-packages (2.5.0)\n",
            "Requirement already satisfied: python-dotenv in /usr/local/lib/python3.11/dist-packages (1.1.1)\n",
            "Requirement already satisfied: httpx>=0.21.2 in /usr/local/lib/python3.11/dist-packages (from elevenlabs) (0.28.1)\n",
            "Requirement already satisfied: pydantic>=1.9.2 in /usr/local/lib/python3.11/dist-packages (from elevenlabs) (2.11.7)\n",
            "Requirement already satisfied: pydantic-core<3.0.0,>=2.18.2 in /usr/local/lib/python3.11/dist-packages (from elevenlabs) (2.33.2)\n",
            "Requirement already satisfied: requests>=2.20 in /usr/local/lib/python3.11/dist-packages (from elevenlabs) (2.32.3)\n",
            "Requirement already satisfied: typing_extensions>=4.0.0 in /usr/local/lib/python3.11/dist-packages (from elevenlabs) (4.14.0)\n",
            "Requirement already satisfied: websockets>=11.0 in /usr/local/lib/python3.11/dist-packages (from elevenlabs) (15.0.1)\n",
            "Requirement already satisfied: anyio in /usr/local/lib/python3.11/dist-packages (from httpx>=0.21.2->elevenlabs) (4.9.0)\n",
            "Requirement already satisfied: certifi in /usr/local/lib/python3.11/dist-packages (from httpx>=0.21.2->elevenlabs) (2025.6.15)\n",
            "Requirement already satisfied: httpcore==1.* in /usr/local/lib/python3.11/dist-packages (from httpx>=0.21.2->elevenlabs) (1.0.9)\n",
            "Requirement already satisfied: idna in /usr/local/lib/python3.11/dist-packages (from httpx>=0.21.2->elevenlabs) (3.10)\n",
            "Requirement already satisfied: h11>=0.16 in /usr/local/lib/python3.11/dist-packages (from httpcore==1.*->httpx>=0.21.2->elevenlabs) (0.16.0)\n",
            "Requirement already satisfied: annotated-types>=0.6.0 in /usr/local/lib/python3.11/dist-packages (from pydantic>=1.9.2->elevenlabs) (0.7.0)\n",
            "Requirement already satisfied: typing-inspection>=0.4.0 in /usr/local/lib/python3.11/dist-packages (from pydantic>=1.9.2->elevenlabs) (0.4.1)\n",
            "Requirement already satisfied: charset-normalizer<4,>=2 in /usr/local/lib/python3.11/dist-packages (from requests>=2.20->elevenlabs) (3.4.2)\n",
            "Requirement already satisfied: urllib3<3,>=1.21.1 in /usr/local/lib/python3.11/dist-packages (from requests>=2.20->elevenlabs) (2.4.0)\n",
            "Requirement already satisfied: sniffio>=1.1 in /usr/local/lib/python3.11/dist-packages (from anyio->httpx>=0.21.2->elevenlabs) (1.3.1)\n",
            "Reading package lists... Done\n",
            "Building dependency tree... Done\n",
            "Reading state information... Done\n",
            "ffmpeg is already the newest version (7:4.4.2-0ubuntu0.22.04.1).\n",
            "0 upgraded, 0 newly installed, 0 to remove and 36 not upgraded.\n"
          ]
        }
      ],
      "source": [
        "!pip install elevenlabs python-dotenv\n",
        "!apt-get install -y ffmpeg"
      ]
    },
    {
      "cell_type": "code",
      "source": [
        "import os\n",
        "\n",
        "# Set your ElevenLabs API key here\n",
        "os.environ[\"ELEVEN_API_KEY\"] = \"sk_0f8321ef92d8f72b3c17bdbd0a6d755201d0c3bd7c77a543\""
      ],
      "metadata": {
        "id": "JHnpxH58_ZEp"
      },
      "execution_count": null,
      "outputs": []
    },
    {
      "cell_type": "code",
      "source": [
        "from elevenlabs.client import ElevenLabs\n",
        "from elevenlabs import play\n",
        "from google.colab import files\n",
        "\n",
        "# Initialize client\n",
        "client = ElevenLabs(\n",
        "    api_key=os.getenv(\"ELEVENLABS_API_KEY\"),\n",
        ")\n",
        "\n",
        "# Generate audio\n",
        "audio = client.text_to_speech.convert(\n",
        "    text=\"इस स्तर पर, मैं शब्दों को व्याकरणिक रूप से जोड़कर अर्थ बनाने की क्षमता विकसित करना शुरू कर रहा हूं। विशेष रूप से, मैं कुछ बुनियादी विषयों और क्रियाओं या क्रियाओं और वस्तुओं को जोड़ सकता हूं, लेकिन ऐसा करने में मैं असंगत हो सकता हूं। मेरी शब्दावली अक्सर नौसिखिए स्तर के विषयों तक ही सीमित रहती है, जिनका मैं अपने दैनिक जीवन में अनुभव करता हूँ या जिन्हें मैंने हाल ही में सीखा है।\",\n",
        "    voice_id=\"AZnzlk1XvdvUeBnXmlld\",  # Replace with a valid voice ID if needed\n",
        "    model_id=\"eleven_multilingual_v2\",\n",
        "    output_format=\"mp3_44100_128\",\n",
        "    voice_settings={\n",
        "        \"stability\": 0.3,\n",
        "        \"similarity_boost\": 0.85,\n",
        "        \"style\": 0.8,\n",
        "        \"use_speaker_boost\": True\n",
        "    }\n",
        ")\n",
        "\n",
        "# Save to file\n",
        "with open(\"output.mp3\", \"wb\") as f:\n",
        "    for chunk in audio:\n",
        "        f.write(chunk)\n",
        "\n",
        "\n",
        "# Play audio in Colab\n",
        "from IPython.display import Audio\n",
        "Audio(\"output.mp3\")\n",
        "\n",
        "files.download(\"output.mp3\")\n"
      ],
      "metadata": {
        "colab": {
          "base_uri": "https://localhost:8080/",
          "height": 17
        },
        "id": "nlsEwJBOAEV6",
        "outputId": "07d59e4c-2439-488e-cbd7-d59d4af60dfb"
      },
      "execution_count": null,
      "outputs": [
        {
          "output_type": "display_data",
          "data": {
            "text/plain": [
              "<IPython.core.display.Javascript object>"
            ],
            "application/javascript": [
              "\n",
              "    async function download(id, filename, size) {\n",
              "      if (!google.colab.kernel.accessAllowed) {\n",
              "        return;\n",
              "      }\n",
              "      const div = document.createElement('div');\n",
              "      const label = document.createElement('label');\n",
              "      label.textContent = `Downloading \"${filename}\": `;\n",
              "      div.appendChild(label);\n",
              "      const progress = document.createElement('progress');\n",
              "      progress.max = size;\n",
              "      div.appendChild(progress);\n",
              "      document.body.appendChild(div);\n",
              "\n",
              "      const buffers = [];\n",
              "      let downloaded = 0;\n",
              "\n",
              "      const channel = await google.colab.kernel.comms.open(id);\n",
              "      // Send a message to notify the kernel that we're ready.\n",
              "      channel.send({})\n",
              "\n",
              "      for await (const message of channel.messages) {\n",
              "        // Send a message to notify the kernel that we're ready.\n",
              "        channel.send({})\n",
              "        if (message.buffers) {\n",
              "          for (const buffer of message.buffers) {\n",
              "            buffers.push(buffer);\n",
              "            downloaded += buffer.byteLength;\n",
              "            progress.value = downloaded;\n",
              "          }\n",
              "        }\n",
              "      }\n",
              "      const blob = new Blob(buffers, {type: 'application/binary'});\n",
              "      const a = document.createElement('a');\n",
              "      a.href = window.URL.createObjectURL(blob);\n",
              "      a.download = filename;\n",
              "      div.appendChild(a);\n",
              "      a.click();\n",
              "      div.remove();\n",
              "    }\n",
              "  "
            ]
          },
          "metadata": {}
        },
        {
          "output_type": "display_data",
          "data": {
            "text/plain": [
              "<IPython.core.display.Javascript object>"
            ],
            "application/javascript": [
              "download(\"download_f13d6c48-f835-42a7-b2e5-076902b8fd51\", \"output.mp3\", 398778)"
            ]
          },
          "metadata": {}
        }
      ]
    },
    {
      "cell_type": "code",
      "source": [
        "\n",
        "# List available voices\n",
        "voices = client.voices.get_all()\n",
        "for v in voices.voices:\n",
        "    print(f\"{v.name}: {v.voice_id}\")"
      ],
      "metadata": {
        "colab": {
          "base_uri": "https://localhost:8080/"
        },
        "id": "pLX6Rv6xBqWD",
        "outputId": "aff822f3-c39c-4a32-d34e-97246c117805"
      },
      "execution_count": null,
      "outputs": [
        {
          "output_type": "stream",
          "name": "stdout",
          "text": [
            "Aria: 9BWtsMINqrJLrRacOk9x\n",
            "Sarah: EXAVITQu4vr4xnSDxMaL\n",
            "Laura: FGY2WhTYpPnrIDTdsKH5\n",
            "Charlie: IKne3meq5aSn9XLyUdCD\n",
            "George: JBFqnCBsd6RMkjVDRZzb\n",
            "Callum: N2lVS1w4EtoT3dr4eOWO\n",
            "River: SAz9YHcvj6GT2YYXdXww\n",
            "Liam: TX3LPaxmHKxFdv7VOQHJ\n",
            "Charlotte: XB0fDUnXU5powFXDhCwa\n",
            "Alice: Xb7hH8MSUJpSbSDYk0k2\n",
            "Matilda: XrExE9yKIg1WjnnlVkGX\n",
            "Will: bIHbv24MWmeRgasZH58o\n",
            "Jessica: cgSgspJ2msm6clMCkdW9\n",
            "Eric: cjVigY5qzO86Huf0OWal\n",
            "Chris: iP95p4xoKVk53GoZ742B\n",
            "Brian: nPczCjzI2devNBz1zQrb\n",
            "Daniel: onwK4e9ZLuTAKqWW03F9\n",
            "Lily: pFZP5JQG7iQjIQuC4Bku\n",
            "Bill: pqHfZKP75CvOlQylNhV4\n"
          ]
        }
      ]
    }
  ]
}